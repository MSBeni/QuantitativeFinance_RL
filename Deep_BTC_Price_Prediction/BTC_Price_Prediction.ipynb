{
  "nbformat": 4,
  "nbformat_minor": 0,
  "metadata": {
    "colab": {
      "name": "BTC Price Prediction.ipynb",
      "provenance": []
    },
    "kernelspec": {
      "name": "python3",
      "display_name": "Python 3"
    },
    "language_info": {
      "name": "python"
    },
    "accelerator": "GPU"
  },
  "cells": [
    {
      "cell_type": "code",
      "metadata": {
        "id": "iTZ7m7DIu0eb"
      },
      "source": [
        "# number of total past observations from the original dataset to be considered\n",
        "n_past_total = 1200\n",
        "\n",
        "# number of past observations to be considered for the LSTM training and prediction\n",
        "n_past = 30\n",
        "\n",
        "# number of future datapoints to predict (if higher than 1, the model switch to Multi-Step)\n",
        "n_future = 10\n",
        "\n",
        "# activation function used for the RNN (softsign, relu, sigmoid)\n",
        "activation = 'softsign'\n",
        "\n",
        "# dropout for the hidden layers\n",
        "dropout = 0.2\n",
        "\n",
        "# number of hidden layers\n",
        "n_layers = 8\n",
        "\n",
        "# number of neurons of the hidden layers\n",
        "n_neurons = 20\n",
        "\n",
        "# features to be considered for training (if only one is Close, then its Univariate, if more, then it's Multivariate)\n",
        "features = ['Close', 'Volume']\n",
        "#features = ['Close']\n",
        "\n",
        "# number of inputs features (if higher than 1, )\n",
        "n_features = len(features)\n",
        "\n",
        "# patience for the early stopping (number of epochs)\n",
        "patience = 25\n",
        "\n",
        "# optimizer (adam, RMSprop)\n",
        "optimizer='adam'"
      ],
      "execution_count": 28,
      "outputs": []
    },
    {
      "cell_type": "code",
      "metadata": {
        "id": "xJ-Iy73k7w8e"
      },
      "source": [
        "import numpy as np\n",
        "import pandas as pd\n",
        "import datetime\n",
        "from google.colab import drive\n",
        "import glob\n",
        "import os\n",
        "from sklearn.preprocessing import MinMaxScaler\n"
      ],
      "execution_count": 29,
      "outputs": []
    },
    {
      "cell_type": "code",
      "metadata": {
        "id": "Kj2kRfsNFwJD"
      },
      "source": [
        "from google.colab import drive\n",
        "# drive.mount(\"/content/drive\")\n",
        "path = '/content/drive/My Drive/BTC'\n"
      ],
      "execution_count": 2,
      "outputs": []
    },
    {
      "cell_type": "code",
      "metadata": {
        "id": "Zv38LxezXGfa"
      },
      "source": [
        "def dataset():\n",
        "  df_= pd.DataFrame()\n",
        "  lst_df=[]\n",
        "  for filename in glob.glob(os.path.join(path, '*.csv')):\n",
        "    df = pd.read_csv(filename, error_bad_lines=False, skiprows=1)\n",
        "    lst_df.append(df)\n",
        "    df_ = pd.concat(lst_df)\n",
        "    length_ = len(df_['date'])   \n",
        "    df_ = df_.set_index([pd.Index(range(0,length_))])\n",
        "    df_ = df_.sort_values(['date'],ascending=True)\n",
        "  return df_"
      ],
      "execution_count": 3,
      "outputs": []
    },
    {
      "cell_type": "code",
      "metadata": {
        "colab": {
          "base_uri": "https://localhost:8080/",
          "height": 419
        },
        "id": "leK6QsCHZi-z",
        "outputId": "27b046d2-6c81-4be6-93bc-cc9734cd9680"
      },
      "source": [
        "BTC= dataset()\n",
        "BTC"
      ],
      "execution_count": 4,
      "outputs": [
        {
          "output_type": "execute_result",
          "data": {
            "text/html": [
              "<div>\n",
              "<style scoped>\n",
              "    .dataframe tbody tr th:only-of-type {\n",
              "        vertical-align: middle;\n",
              "    }\n",
              "\n",
              "    .dataframe tbody tr th {\n",
              "        vertical-align: top;\n",
              "    }\n",
              "\n",
              "    .dataframe thead th {\n",
              "        text-align: right;\n",
              "    }\n",
              "</style>\n",
              "<table border=\"1\" class=\"dataframe\">\n",
              "  <thead>\n",
              "    <tr style=\"text-align: right;\">\n",
              "      <th></th>\n",
              "      <th>unix</th>\n",
              "      <th>date</th>\n",
              "      <th>symbol</th>\n",
              "      <th>open</th>\n",
              "      <th>high</th>\n",
              "      <th>low</th>\n",
              "      <th>close</th>\n",
              "      <th>Volume BTC</th>\n",
              "      <th>Volume USD</th>\n",
              "    </tr>\n",
              "  </thead>\n",
              "  <tbody>\n",
              "    <tr>\n",
              "      <th>525598</th>\n",
              "      <td>1483228860</td>\n",
              "      <td>2017-01-01 00:01:00</td>\n",
              "      <td>BTC/USD</td>\n",
              "      <td>966.34</td>\n",
              "      <td>966.34</td>\n",
              "      <td>966.34</td>\n",
              "      <td>966.34</td>\n",
              "      <td>7.610000</td>\n",
              "      <td>7353.847400</td>\n",
              "    </tr>\n",
              "    <tr>\n",
              "      <th>525597</th>\n",
              "      <td>1483228920</td>\n",
              "      <td>2017-01-01 00:02:00</td>\n",
              "      <td>BTC/USD</td>\n",
              "      <td>966.16</td>\n",
              "      <td>966.37</td>\n",
              "      <td>966.16</td>\n",
              "      <td>966.37</td>\n",
              "      <td>8.087376</td>\n",
              "      <td>7815.397864</td>\n",
              "    </tr>\n",
              "    <tr>\n",
              "      <th>525596</th>\n",
              "      <td>1483228980</td>\n",
              "      <td>2017-01-01 00:03:00</td>\n",
              "      <td>BTC/USD</td>\n",
              "      <td>966.37</td>\n",
              "      <td>966.37</td>\n",
              "      <td>966.37</td>\n",
              "      <td>966.37</td>\n",
              "      <td>0.000000</td>\n",
              "      <td>0.000000</td>\n",
              "    </tr>\n",
              "    <tr>\n",
              "      <th>525595</th>\n",
              "      <td>1483229040</td>\n",
              "      <td>2017-01-01 00:04:00</td>\n",
              "      <td>BTC/USD</td>\n",
              "      <td>966.37</td>\n",
              "      <td>966.37</td>\n",
              "      <td>966.37</td>\n",
              "      <td>966.37</td>\n",
              "      <td>0.000000</td>\n",
              "      <td>0.000000</td>\n",
              "    </tr>\n",
              "    <tr>\n",
              "      <th>525594</th>\n",
              "      <td>1483229100</td>\n",
              "      <td>2017-01-01 00:05:00</td>\n",
              "      <td>BTC/USD</td>\n",
              "      <td>966.43</td>\n",
              "      <td>966.43</td>\n",
              "      <td>966.43</td>\n",
              "      <td>966.43</td>\n",
              "      <td>0.107000</td>\n",
              "      <td>103.408010</td>\n",
              "    </tr>\n",
              "    <tr>\n",
              "      <th>...</th>\n",
              "      <td>...</td>\n",
              "      <td>...</td>\n",
              "      <td>...</td>\n",
              "      <td>...</td>\n",
              "      <td>...</td>\n",
              "      <td>...</td>\n",
              "      <td>...</td>\n",
              "      <td>...</td>\n",
              "      <td>...</td>\n",
              "    </tr>\n",
              "    <tr>\n",
              "      <th>2064523</th>\n",
              "      <td>1633934340</td>\n",
              "      <td>2021-10-11 06:39:00</td>\n",
              "      <td>BTC/USD</td>\n",
              "      <td>56651.24</td>\n",
              "      <td>56679.20</td>\n",
              "      <td>56651.24</td>\n",
              "      <td>56679.20</td>\n",
              "      <td>0.332015</td>\n",
              "      <td>18818.317382</td>\n",
              "    </tr>\n",
              "    <tr>\n",
              "      <th>2064522</th>\n",
              "      <td>1633934400</td>\n",
              "      <td>2021-10-11 06:40:00</td>\n",
              "      <td>BTC/USD</td>\n",
              "      <td>56664.83</td>\n",
              "      <td>56683.60</td>\n",
              "      <td>56649.00</td>\n",
              "      <td>56683.60</td>\n",
              "      <td>0.241577</td>\n",
              "      <td>13693.444401</td>\n",
              "    </tr>\n",
              "    <tr>\n",
              "      <th>2064521</th>\n",
              "      <td>1633934460</td>\n",
              "      <td>2021-10-11 06:41:00</td>\n",
              "      <td>BTC/USD</td>\n",
              "      <td>56683.49</td>\n",
              "      <td>56683.49</td>\n",
              "      <td>56667.74</td>\n",
              "      <td>56676.79</td>\n",
              "      <td>0.022537</td>\n",
              "      <td>1277.327650</td>\n",
              "    </tr>\n",
              "    <tr>\n",
              "      <th>2064520</th>\n",
              "      <td>1633934520</td>\n",
              "      <td>2021-10-11 06:42:00</td>\n",
              "      <td>BTC/USD</td>\n",
              "      <td>56671.71</td>\n",
              "      <td>56680.74</td>\n",
              "      <td>56670.00</td>\n",
              "      <td>56680.74</td>\n",
              "      <td>3.151051</td>\n",
              "      <td>178603.886587</td>\n",
              "    </tr>\n",
              "    <tr>\n",
              "      <th>2064519</th>\n",
              "      <td>1633934580</td>\n",
              "      <td>2021-10-11 06:43:00</td>\n",
              "      <td>BTC/USD</td>\n",
              "      <td>56680.74</td>\n",
              "      <td>56680.74</td>\n",
              "      <td>56680.74</td>\n",
              "      <td>56680.74</td>\n",
              "      <td>0.000000</td>\n",
              "      <td>0.000000</td>\n",
              "    </tr>\n",
              "  </tbody>\n",
              "</table>\n",
              "<p>2472442 rows × 9 columns</p>\n",
              "</div>"
            ],
            "text/plain": [
              "               unix                 date  ... Volume BTC     Volume USD\n",
              "525598   1483228860  2017-01-01 00:01:00  ...   7.610000    7353.847400\n",
              "525597   1483228920  2017-01-01 00:02:00  ...   8.087376    7815.397864\n",
              "525596   1483228980  2017-01-01 00:03:00  ...   0.000000       0.000000\n",
              "525595   1483229040  2017-01-01 00:04:00  ...   0.000000       0.000000\n",
              "525594   1483229100  2017-01-01 00:05:00  ...   0.107000     103.408010\n",
              "...             ...                  ...  ...        ...            ...\n",
              "2064523  1633934340  2021-10-11 06:39:00  ...   0.332015   18818.317382\n",
              "2064522  1633934400  2021-10-11 06:40:00  ...   0.241577   13693.444401\n",
              "2064521  1633934460  2021-10-11 06:41:00  ...   0.022537    1277.327650\n",
              "2064520  1633934520  2021-10-11 06:42:00  ...   3.151051  178603.886587\n",
              "2064519  1633934580  2021-10-11 06:43:00  ...   0.000000       0.000000\n",
              "\n",
              "[2472442 rows x 9 columns]"
            ]
          },
          "metadata": {},
          "execution_count": 4
        }
      ]
    },
    {
      "cell_type": "code",
      "metadata": {
        "id": "2qQy80iqudJD"
      },
      "source": [
        "#split Test and train\n",
        "def train_test_split():\n",
        "  train= BTC.iloc[:2348820,:]\n",
        "  test= BTC.iloc[2348820:,:]\n",
        "  return train,test"
      ],
      "execution_count": 5,
      "outputs": []
    },
    {
      "cell_type": "code",
      "metadata": {
        "colab": {
          "base_uri": "https://localhost:8080/",
          "height": 204
        },
        "id": "KWGzEiXZvMwE",
        "outputId": "a3deef92-5973-4a51-fb62-5f4855064ccb"
      },
      "source": [
        "train, test= train_test_split()\n",
        "train.head(5)"
      ],
      "execution_count": 8,
      "outputs": [
        {
          "output_type": "execute_result",
          "data": {
            "text/html": [
              "<div>\n",
              "<style scoped>\n",
              "    .dataframe tbody tr th:only-of-type {\n",
              "        vertical-align: middle;\n",
              "    }\n",
              "\n",
              "    .dataframe tbody tr th {\n",
              "        vertical-align: top;\n",
              "    }\n",
              "\n",
              "    .dataframe thead th {\n",
              "        text-align: right;\n",
              "    }\n",
              "</style>\n",
              "<table border=\"1\" class=\"dataframe\">\n",
              "  <thead>\n",
              "    <tr style=\"text-align: right;\">\n",
              "      <th></th>\n",
              "      <th>unix</th>\n",
              "      <th>date</th>\n",
              "      <th>symbol</th>\n",
              "      <th>open</th>\n",
              "      <th>high</th>\n",
              "      <th>low</th>\n",
              "      <th>close</th>\n",
              "      <th>Volume BTC</th>\n",
              "      <th>Volume USD</th>\n",
              "    </tr>\n",
              "  </thead>\n",
              "  <tbody>\n",
              "    <tr>\n",
              "      <th>525598</th>\n",
              "      <td>1483228860</td>\n",
              "      <td>2017-01-01 00:01:00</td>\n",
              "      <td>BTC/USD</td>\n",
              "      <td>966.34</td>\n",
              "      <td>966.34</td>\n",
              "      <td>966.34</td>\n",
              "      <td>966.34</td>\n",
              "      <td>7.610000</td>\n",
              "      <td>7353.847400</td>\n",
              "    </tr>\n",
              "    <tr>\n",
              "      <th>525597</th>\n",
              "      <td>1483228920</td>\n",
              "      <td>2017-01-01 00:02:00</td>\n",
              "      <td>BTC/USD</td>\n",
              "      <td>966.16</td>\n",
              "      <td>966.37</td>\n",
              "      <td>966.16</td>\n",
              "      <td>966.37</td>\n",
              "      <td>8.087376</td>\n",
              "      <td>7815.397864</td>\n",
              "    </tr>\n",
              "    <tr>\n",
              "      <th>525596</th>\n",
              "      <td>1483228980</td>\n",
              "      <td>2017-01-01 00:03:00</td>\n",
              "      <td>BTC/USD</td>\n",
              "      <td>966.37</td>\n",
              "      <td>966.37</td>\n",
              "      <td>966.37</td>\n",
              "      <td>966.37</td>\n",
              "      <td>0.000000</td>\n",
              "      <td>0.000000</td>\n",
              "    </tr>\n",
              "    <tr>\n",
              "      <th>525595</th>\n",
              "      <td>1483229040</td>\n",
              "      <td>2017-01-01 00:04:00</td>\n",
              "      <td>BTC/USD</td>\n",
              "      <td>966.37</td>\n",
              "      <td>966.37</td>\n",
              "      <td>966.37</td>\n",
              "      <td>966.37</td>\n",
              "      <td>0.000000</td>\n",
              "      <td>0.000000</td>\n",
              "    </tr>\n",
              "    <tr>\n",
              "      <th>525594</th>\n",
              "      <td>1483229100</td>\n",
              "      <td>2017-01-01 00:05:00</td>\n",
              "      <td>BTC/USD</td>\n",
              "      <td>966.43</td>\n",
              "      <td>966.43</td>\n",
              "      <td>966.43</td>\n",
              "      <td>966.43</td>\n",
              "      <td>0.107000</td>\n",
              "      <td>103.408010</td>\n",
              "    </tr>\n",
              "  </tbody>\n",
              "</table>\n",
              "</div>"
            ],
            "text/plain": [
              "              unix                 date  ... Volume BTC   Volume USD\n",
              "525598  1483228860  2017-01-01 00:01:00  ...   7.610000  7353.847400\n",
              "525597  1483228920  2017-01-01 00:02:00  ...   8.087376  7815.397864\n",
              "525596  1483228980  2017-01-01 00:03:00  ...   0.000000     0.000000\n",
              "525595  1483229040  2017-01-01 00:04:00  ...   0.000000     0.000000\n",
              "525594  1483229100  2017-01-01 00:05:00  ...   0.107000   103.408010\n",
              "\n",
              "[5 rows x 9 columns]"
            ]
          },
          "metadata": {},
          "execution_count": 8
        }
      ]
    },
    {
      "cell_type": "code",
      "metadata": {
        "id": "uG42_DQwt5MZ"
      },
      "source": [
        "# looking at the correlation of the main possible variables\n",
        "final_train=train[['close','Volume USD']]\n",
        "final_test= test[['close','Volume USD']]"
      ],
      "execution_count": 21,
      "outputs": []
    },
    {
      "cell_type": "code",
      "metadata": {
        "id": "eWDpnhlMF3Z4"
      },
      "source": [
        "#normalizing dataset with minmax scaler\n",
        "\n",
        "\n",
        "from sklearn.preprocessing import MinMaxScaler\n",
        "def minmax_train():\n",
        "  sc = MinMaxScaler(feature_range=(0,1))\n",
        "  SC_train = sc.fit_transform(final_train)\n",
        "  return SC_train\n",
        "\n",
        "def minmax_test():\n",
        "  sc = MinMaxScaler(feature_range=(0,1))\n",
        "  SC_test = sc.fit_transform(final_test)\n",
        "  return SC_test"
      ],
      "execution_count": 22,
      "outputs": []
    },
    {
      "cell_type": "code",
      "metadata": {
        "id": "ZvQd0VTiG6EJ"
      },
      "source": [
        "normalized_train= minmax_train()"
      ],
      "execution_count": 23,
      "outputs": []
    },
    {
      "cell_type": "code",
      "metadata": {
        "colab": {
          "base_uri": "https://localhost:8080/"
        },
        "id": "xZ_-CmOPS_0T",
        "outputId": "2bacdd2b-685b-499c-da7b-38553d4cb0c2"
      },
      "source": [
        "normalized_train"
      ],
      "execution_count": 24,
      "outputs": [
        {
          "output_type": "execute_result",
          "data": {
            "text/plain": [
              "array([[3.34283512e-03, 5.26481095e-04],\n",
              "       [3.34330308e-03, 5.59524695e-04],\n",
              "       [3.34330308e-03, 0.00000000e+00],\n",
              "       ...,\n",
              "       [4.76748811e-01, 1.41017372e-05],\n",
              "       [4.77138783e-01, 7.06637620e-04],\n",
              "       [4.77408175e-01, 2.69407517e-04]])"
            ]
          },
          "metadata": {},
          "execution_count": 24
        }
      ]
    },
    {
      "cell_type": "code",
      "metadata": {
        "id": "n3H4_YcZG6Gt"
      },
      "source": [
        "normalized_test= minmax_test()"
      ],
      "execution_count": 25,
      "outputs": []
    },
    {
      "cell_type": "code",
      "metadata": {
        "colab": {
          "base_uri": "https://localhost:8080/"
        },
        "id": "t2dV0JL0HcYx",
        "outputId": "8d96e041-5359-4f42-d95c-11e4b07df9ad"
      },
      "source": [
        "normalized_train[0]"
      ],
      "execution_count": 26,
      "outputs": [
        {
          "output_type": "execute_result",
          "data": {
            "text/plain": [
              "array([0.00334284, 0.00052648])"
            ]
          },
          "metadata": {},
          "execution_count": 26
        }
      ]
    },
    {
      "cell_type": "code",
      "metadata": {
        "colab": {
          "base_uri": "https://localhost:8080/"
        },
        "id": "4JLPkKi6sIuz",
        "outputId": "f8bdd156-6ab2-496b-d56f-b8df614a471c"
      },
      "source": [
        "X_train = []\n",
        "y_train = []\n",
        "\n",
        "for i in range(n_past, len(normalized_train) - n_future + 1):\n",
        "    X_train.append(normalized_train[i-n_past:i, :])\n",
        "    y_train.append(normalized_train[i:i+n_future, 0])\n",
        "\n",
        "X_train, y_train = np.array(X_train), np.array(y_train)\n",
        "X_train.shape, y_train.shape"
      ],
      "execution_count": 31,
      "outputs": [
        {
          "output_type": "execute_result",
          "data": {
            "text/plain": [
              "((2348781, 30, 2), (2348781, 10))"
            ]
          },
          "metadata": {},
          "execution_count": 31
        }
      ]
    },
    {
      "cell_type": "code",
      "metadata": {
        "id": "o5fUuf-DlY-K"
      },
      "source": [
        "import tensorflow as tf\n",
        "import keras"
      ],
      "execution_count": 32,
      "outputs": []
    },
    {
      "cell_type": "code",
      "metadata": {
        "colab": {
          "base_uri": "https://localhost:8080/"
        },
        "id": "0IXPDHw4LSWe",
        "outputId": "50fb3e03-b0be-4bed-bbcc-3661909d319e"
      },
      "source": [
        "###GRU Model\n",
        "#our goal is to predict 1 min price of BTC.\n",
        "look_back=4\n",
        "from datetime import datetime\n",
        "from keras.models import Sequential\n",
        "from keras.layers import Dense, LSTM, Dropout, GRU\n",
        "from keras.layers import *\n",
        "from sklearn.preprocessing import MinMaxScaler\n",
        "from sklearn.metrics import mean_squared_error, mean_absolute_error\n",
        "from sklearn.model_selection import train_test_split\n",
        "from keras.callbacks import EarlyStopping\n",
        "from keras.optimizers import adam_v2\n",
        "import os\n",
        "import numpy as np\n",
        "np.set_printoptions(suppress=True)\n",
        "import pandas as pd\n",
        "pd.set_option('display.float_format', lambda x: '%.3f' % x) #avoid scientific notation\n",
        "import datetime\n",
        "import math\n",
        "from matplotlib import pyplot as plt\n",
        "from tensorflow.keras.models import Sequential, load_model\n",
        "from tensorflow.keras.layers import Dense, LSTM, Dropout\n",
        "from tensorflow.keras.callbacks import EarlyStopping\n",
        "from sklearn.preprocessing import MinMaxScaler\n",
        "from sklearn.metrics import mean_squared_error, mean_absolute_error, explained_variance_score\n",
        "import plotly.express as px\n",
        "import plotly.graph_objects as go\n",
        "from plotly.subplots import make_subplots\n",
        "from IPython.display import Image\n",
        "\n",
        "# Building the RNN\n",
        "\n",
        "# Initialising the RNN\n",
        "regressor = Sequential()\n",
        "\n",
        "# Input layer\n",
        "regressor.add(LSTM(units=n_past, return_sequences=True, activation=activation, input_shape=(X_train.shape[1], n_features))) \n",
        "#regressor.add(LSTM(units=neurons, return_sequences=True, activation=activation, input_shape=(X_train.shape[1], 1))) \n",
        "\n",
        "# Hidden layers\n",
        "for _ in range(n_layers):\n",
        "    regressor.add(Dropout(dropout))\n",
        "    regressor.add(LSTM(units=n_neurons, return_sequences=True, activation=activation))\n",
        "\n",
        "# Last hidden layer (changing the return_sequences)\n",
        "regressor.add(Dropout(dropout))\n",
        "regressor.add(LSTM(units=n_neurons, return_sequences=False, activation=activation))\n",
        "\n",
        "# Adding the output layer\n",
        "regressor.add(Dense(units=n_future))\n",
        "\n",
        "# Compiling the RNN\n",
        "regressor.compile(optimizer=optimizer, loss='mse')\n",
        "\n",
        "# Model summary\n",
        "regressor.summary()"
      ],
      "execution_count": 33,
      "outputs": [
        {
          "output_type": "stream",
          "name": "stdout",
          "text": [
            "WARNING:tensorflow:Layer lstm will not use cuDNN kernels since it doesn't meet the criteria. It will use a generic GPU kernel as fallback when running on GPU.\n",
            "WARNING:tensorflow:Layer lstm_1 will not use cuDNN kernels since it doesn't meet the criteria. It will use a generic GPU kernel as fallback when running on GPU.\n",
            "WARNING:tensorflow:Layer lstm_2 will not use cuDNN kernels since it doesn't meet the criteria. It will use a generic GPU kernel as fallback when running on GPU.\n",
            "WARNING:tensorflow:Layer lstm_3 will not use cuDNN kernels since it doesn't meet the criteria. It will use a generic GPU kernel as fallback when running on GPU.\n",
            "WARNING:tensorflow:Layer lstm_4 will not use cuDNN kernels since it doesn't meet the criteria. It will use a generic GPU kernel as fallback when running on GPU.\n",
            "WARNING:tensorflow:Layer lstm_5 will not use cuDNN kernels since it doesn't meet the criteria. It will use a generic GPU kernel as fallback when running on GPU.\n",
            "WARNING:tensorflow:Layer lstm_6 will not use cuDNN kernels since it doesn't meet the criteria. It will use a generic GPU kernel as fallback when running on GPU.\n",
            "WARNING:tensorflow:Layer lstm_7 will not use cuDNN kernels since it doesn't meet the criteria. It will use a generic GPU kernel as fallback when running on GPU.\n",
            "WARNING:tensorflow:Layer lstm_8 will not use cuDNN kernels since it doesn't meet the criteria. It will use a generic GPU kernel as fallback when running on GPU.\n",
            "WARNING:tensorflow:Layer lstm_9 will not use cuDNN kernels since it doesn't meet the criteria. It will use a generic GPU kernel as fallback when running on GPU.\n",
            "Model: \"sequential_1\"\n",
            "_________________________________________________________________\n",
            "Layer (type)                 Output Shape              Param #   \n",
            "=================================================================\n",
            "lstm (LSTM)                  (None, 30, 30)            3960      \n",
            "_________________________________________________________________\n",
            "dropout (Dropout)            (None, 30, 30)            0         \n",
            "_________________________________________________________________\n",
            "lstm_1 (LSTM)                (None, 30, 20)            4080      \n",
            "_________________________________________________________________\n",
            "dropout_1 (Dropout)          (None, 30, 20)            0         \n",
            "_________________________________________________________________\n",
            "lstm_2 (LSTM)                (None, 30, 20)            3280      \n",
            "_________________________________________________________________\n",
            "dropout_2 (Dropout)          (None, 30, 20)            0         \n",
            "_________________________________________________________________\n",
            "lstm_3 (LSTM)                (None, 30, 20)            3280      \n",
            "_________________________________________________________________\n",
            "dropout_3 (Dropout)          (None, 30, 20)            0         \n",
            "_________________________________________________________________\n",
            "lstm_4 (LSTM)                (None, 30, 20)            3280      \n",
            "_________________________________________________________________\n",
            "dropout_4 (Dropout)          (None, 30, 20)            0         \n",
            "_________________________________________________________________\n",
            "lstm_5 (LSTM)                (None, 30, 20)            3280      \n",
            "_________________________________________________________________\n",
            "dropout_5 (Dropout)          (None, 30, 20)            0         \n",
            "_________________________________________________________________\n",
            "lstm_6 (LSTM)                (None, 30, 20)            3280      \n",
            "_________________________________________________________________\n",
            "dropout_6 (Dropout)          (None, 30, 20)            0         \n",
            "_________________________________________________________________\n",
            "lstm_7 (LSTM)                (None, 30, 20)            3280      \n",
            "_________________________________________________________________\n",
            "dropout_7 (Dropout)          (None, 30, 20)            0         \n",
            "_________________________________________________________________\n",
            "lstm_8 (LSTM)                (None, 30, 20)            3280      \n",
            "_________________________________________________________________\n",
            "dropout_8 (Dropout)          (None, 30, 20)            0         \n",
            "_________________________________________________________________\n",
            "lstm_9 (LSTM)                (None, 20)                3280      \n",
            "_________________________________________________________________\n",
            "dense (Dense)                (None, 10)                210       \n",
            "=================================================================\n",
            "Total params: 34,490\n",
            "Trainable params: 34,490\n",
            "Non-trainable params: 0\n",
            "_________________________________________________________________\n"
          ]
        }
      ]
    },
    {
      "cell_type": "code",
      "metadata": {
        "id": "WI06sVUtvOeF"
      },
      "source": [
        "# Adding early stopping\n",
        "early_stop = EarlyStopping(monitor='val_loss', mode='min', verbose=1, patience=patience)"
      ],
      "execution_count": 35,
      "outputs": []
    },
    {
      "cell_type": "code",
      "metadata": {
        "colab": {
          "base_uri": "https://localhost:8080/",
          "height": 375
        },
        "id": "M4fW9F84SpNp",
        "outputId": "d11a0ea2-f43f-4034-a05e-242de14e9376"
      },
      "source": [
        "# Fitting the RNN to the Training set\n",
        "res = regressor.fit(X_train, y_train\n",
        "                    , batch_size=32\n",
        "                    , epochs=750\n",
        "                    , validation_split=0.1\n",
        "                    , callbacks=[early_stop])"
      ],
      "execution_count": 36,
      "outputs": [
        {
          "output_type": "stream",
          "name": "stdout",
          "text": [
            "Epoch 1/750\n",
            " 1991/66060 [..............................] - ETA: 14:16:06 - loss: 5.3733e-04"
          ]
        },
        {
          "output_type": "error",
          "ename": "KeyboardInterrupt",
          "evalue": "ignored",
          "traceback": [
            "\u001b[0;31m---------------------------------------------------------------------------\u001b[0m",
            "\u001b[0;31mKeyboardInterrupt\u001b[0m                         Traceback (most recent call last)",
            "\u001b[0;32m<ipython-input-36-f3ebdace8f7e>\u001b[0m in \u001b[0;36m<module>\u001b[0;34m()\u001b[0m\n\u001b[1;32m      4\u001b[0m                     \u001b[0;34m,\u001b[0m \u001b[0mepochs\u001b[0m\u001b[0;34m=\u001b[0m\u001b[0;36m750\u001b[0m\u001b[0;34m\u001b[0m\u001b[0;34m\u001b[0m\u001b[0m\n\u001b[1;32m      5\u001b[0m                     \u001b[0;34m,\u001b[0m \u001b[0mvalidation_split\u001b[0m\u001b[0;34m=\u001b[0m\u001b[0;36m0.1\u001b[0m\u001b[0;34m\u001b[0m\u001b[0;34m\u001b[0m\u001b[0m\n\u001b[0;32m----> 6\u001b[0;31m                     , callbacks=[early_stop])\n\u001b[0m",
            "\u001b[0;32m/usr/local/lib/python3.7/dist-packages/keras/engine/training.py\u001b[0m in \u001b[0;36mfit\u001b[0;34m(self, x, y, batch_size, epochs, verbose, callbacks, validation_split, validation_data, shuffle, class_weight, sample_weight, initial_epoch, steps_per_epoch, validation_steps, validation_batch_size, validation_freq, max_queue_size, workers, use_multiprocessing)\u001b[0m\n\u001b[1;32m   1182\u001b[0m                 _r=1):\n\u001b[1;32m   1183\u001b[0m               \u001b[0mcallbacks\u001b[0m\u001b[0;34m.\u001b[0m\u001b[0mon_train_batch_begin\u001b[0m\u001b[0;34m(\u001b[0m\u001b[0mstep\u001b[0m\u001b[0;34m)\u001b[0m\u001b[0;34m\u001b[0m\u001b[0;34m\u001b[0m\u001b[0m\n\u001b[0;32m-> 1184\u001b[0;31m               \u001b[0mtmp_logs\u001b[0m \u001b[0;34m=\u001b[0m \u001b[0mself\u001b[0m\u001b[0;34m.\u001b[0m\u001b[0mtrain_function\u001b[0m\u001b[0;34m(\u001b[0m\u001b[0miterator\u001b[0m\u001b[0;34m)\u001b[0m\u001b[0;34m\u001b[0m\u001b[0;34m\u001b[0m\u001b[0m\n\u001b[0m\u001b[1;32m   1185\u001b[0m               \u001b[0;32mif\u001b[0m \u001b[0mdata_handler\u001b[0m\u001b[0;34m.\u001b[0m\u001b[0mshould_sync\u001b[0m\u001b[0;34m:\u001b[0m\u001b[0;34m\u001b[0m\u001b[0;34m\u001b[0m\u001b[0m\n\u001b[1;32m   1186\u001b[0m                 \u001b[0mcontext\u001b[0m\u001b[0;34m.\u001b[0m\u001b[0masync_wait\u001b[0m\u001b[0;34m(\u001b[0m\u001b[0;34m)\u001b[0m\u001b[0;34m\u001b[0m\u001b[0;34m\u001b[0m\u001b[0m\n",
            "\u001b[0;32m/usr/local/lib/python3.7/dist-packages/tensorflow/python/eager/def_function.py\u001b[0m in \u001b[0;36m__call__\u001b[0;34m(self, *args, **kwds)\u001b[0m\n\u001b[1;32m    883\u001b[0m \u001b[0;34m\u001b[0m\u001b[0m\n\u001b[1;32m    884\u001b[0m       \u001b[0;32mwith\u001b[0m \u001b[0mOptionalXlaContext\u001b[0m\u001b[0;34m(\u001b[0m\u001b[0mself\u001b[0m\u001b[0;34m.\u001b[0m\u001b[0m_jit_compile\u001b[0m\u001b[0;34m)\u001b[0m\u001b[0;34m:\u001b[0m\u001b[0;34m\u001b[0m\u001b[0;34m\u001b[0m\u001b[0m\n\u001b[0;32m--> 885\u001b[0;31m         \u001b[0mresult\u001b[0m \u001b[0;34m=\u001b[0m \u001b[0mself\u001b[0m\u001b[0;34m.\u001b[0m\u001b[0m_call\u001b[0m\u001b[0;34m(\u001b[0m\u001b[0;34m*\u001b[0m\u001b[0margs\u001b[0m\u001b[0;34m,\u001b[0m \u001b[0;34m**\u001b[0m\u001b[0mkwds\u001b[0m\u001b[0;34m)\u001b[0m\u001b[0;34m\u001b[0m\u001b[0;34m\u001b[0m\u001b[0m\n\u001b[0m\u001b[1;32m    886\u001b[0m \u001b[0;34m\u001b[0m\u001b[0m\n\u001b[1;32m    887\u001b[0m       \u001b[0mnew_tracing_count\u001b[0m \u001b[0;34m=\u001b[0m \u001b[0mself\u001b[0m\u001b[0;34m.\u001b[0m\u001b[0mexperimental_get_tracing_count\u001b[0m\u001b[0;34m(\u001b[0m\u001b[0;34m)\u001b[0m\u001b[0;34m\u001b[0m\u001b[0;34m\u001b[0m\u001b[0m\n",
            "\u001b[0;32m/usr/local/lib/python3.7/dist-packages/tensorflow/python/eager/def_function.py\u001b[0m in \u001b[0;36m_call\u001b[0;34m(self, *args, **kwds)\u001b[0m\n\u001b[1;32m    915\u001b[0m       \u001b[0;31m# In this case we have created variables on the first call, so we run the\u001b[0m\u001b[0;34m\u001b[0m\u001b[0;34m\u001b[0m\u001b[0;34m\u001b[0m\u001b[0m\n\u001b[1;32m    916\u001b[0m       \u001b[0;31m# defunned version which is guaranteed to never create variables.\u001b[0m\u001b[0;34m\u001b[0m\u001b[0;34m\u001b[0m\u001b[0;34m\u001b[0m\u001b[0m\n\u001b[0;32m--> 917\u001b[0;31m       \u001b[0;32mreturn\u001b[0m \u001b[0mself\u001b[0m\u001b[0;34m.\u001b[0m\u001b[0m_stateless_fn\u001b[0m\u001b[0;34m(\u001b[0m\u001b[0;34m*\u001b[0m\u001b[0margs\u001b[0m\u001b[0;34m,\u001b[0m \u001b[0;34m**\u001b[0m\u001b[0mkwds\u001b[0m\u001b[0;34m)\u001b[0m  \u001b[0;31m# pylint: disable=not-callable\u001b[0m\u001b[0;34m\u001b[0m\u001b[0;34m\u001b[0m\u001b[0m\n\u001b[0m\u001b[1;32m    918\u001b[0m     \u001b[0;32melif\u001b[0m \u001b[0mself\u001b[0m\u001b[0;34m.\u001b[0m\u001b[0m_stateful_fn\u001b[0m \u001b[0;32mis\u001b[0m \u001b[0;32mnot\u001b[0m \u001b[0;32mNone\u001b[0m\u001b[0;34m:\u001b[0m\u001b[0;34m\u001b[0m\u001b[0;34m\u001b[0m\u001b[0m\n\u001b[1;32m    919\u001b[0m       \u001b[0;31m# Release the lock early so that multiple threads can perform the call\u001b[0m\u001b[0;34m\u001b[0m\u001b[0;34m\u001b[0m\u001b[0;34m\u001b[0m\u001b[0m\n",
            "\u001b[0;32m/usr/local/lib/python3.7/dist-packages/tensorflow/python/eager/function.py\u001b[0m in \u001b[0;36m__call__\u001b[0;34m(self, *args, **kwargs)\u001b[0m\n\u001b[1;32m   3038\u001b[0m        filtered_flat_args) = self._maybe_define_function(args, kwargs)\n\u001b[1;32m   3039\u001b[0m     return graph_function._call_flat(\n\u001b[0;32m-> 3040\u001b[0;31m         filtered_flat_args, captured_inputs=graph_function.captured_inputs)  # pylint: disable=protected-access\n\u001b[0m\u001b[1;32m   3041\u001b[0m \u001b[0;34m\u001b[0m\u001b[0m\n\u001b[1;32m   3042\u001b[0m   \u001b[0;34m@\u001b[0m\u001b[0mproperty\u001b[0m\u001b[0;34m\u001b[0m\u001b[0;34m\u001b[0m\u001b[0m\n",
            "\u001b[0;32m/usr/local/lib/python3.7/dist-packages/tensorflow/python/eager/function.py\u001b[0m in \u001b[0;36m_call_flat\u001b[0;34m(self, args, captured_inputs, cancellation_manager)\u001b[0m\n\u001b[1;32m   1962\u001b[0m       \u001b[0;31m# No tape is watching; skip to running the function.\u001b[0m\u001b[0;34m\u001b[0m\u001b[0;34m\u001b[0m\u001b[0;34m\u001b[0m\u001b[0m\n\u001b[1;32m   1963\u001b[0m       return self._build_call_outputs(self._inference_function.call(\n\u001b[0;32m-> 1964\u001b[0;31m           ctx, args, cancellation_manager=cancellation_manager))\n\u001b[0m\u001b[1;32m   1965\u001b[0m     forward_backward = self._select_forward_and_backward_functions(\n\u001b[1;32m   1966\u001b[0m         \u001b[0margs\u001b[0m\u001b[0;34m,\u001b[0m\u001b[0;34m\u001b[0m\u001b[0;34m\u001b[0m\u001b[0m\n",
            "\u001b[0;32m/usr/local/lib/python3.7/dist-packages/tensorflow/python/eager/function.py\u001b[0m in \u001b[0;36mcall\u001b[0;34m(self, ctx, args, cancellation_manager)\u001b[0m\n\u001b[1;32m    594\u001b[0m               \u001b[0minputs\u001b[0m\u001b[0;34m=\u001b[0m\u001b[0margs\u001b[0m\u001b[0;34m,\u001b[0m\u001b[0;34m\u001b[0m\u001b[0;34m\u001b[0m\u001b[0m\n\u001b[1;32m    595\u001b[0m               \u001b[0mattrs\u001b[0m\u001b[0;34m=\u001b[0m\u001b[0mattrs\u001b[0m\u001b[0;34m,\u001b[0m\u001b[0;34m\u001b[0m\u001b[0;34m\u001b[0m\u001b[0m\n\u001b[0;32m--> 596\u001b[0;31m               ctx=ctx)\n\u001b[0m\u001b[1;32m    597\u001b[0m         \u001b[0;32melse\u001b[0m\u001b[0;34m:\u001b[0m\u001b[0;34m\u001b[0m\u001b[0;34m\u001b[0m\u001b[0m\n\u001b[1;32m    598\u001b[0m           outputs = execute.execute_with_cancellation(\n",
            "\u001b[0;32m/usr/local/lib/python3.7/dist-packages/tensorflow/python/eager/execute.py\u001b[0m in \u001b[0;36mquick_execute\u001b[0;34m(op_name, num_outputs, inputs, attrs, ctx, name)\u001b[0m\n\u001b[1;32m     58\u001b[0m     \u001b[0mctx\u001b[0m\u001b[0;34m.\u001b[0m\u001b[0mensure_initialized\u001b[0m\u001b[0;34m(\u001b[0m\u001b[0;34m)\u001b[0m\u001b[0;34m\u001b[0m\u001b[0;34m\u001b[0m\u001b[0m\n\u001b[1;32m     59\u001b[0m     tensors = pywrap_tfe.TFE_Py_Execute(ctx._handle, device_name, op_name,\n\u001b[0;32m---> 60\u001b[0;31m                                         inputs, attrs, num_outputs)\n\u001b[0m\u001b[1;32m     61\u001b[0m   \u001b[0;32mexcept\u001b[0m \u001b[0mcore\u001b[0m\u001b[0;34m.\u001b[0m\u001b[0m_NotOkStatusException\u001b[0m \u001b[0;32mas\u001b[0m \u001b[0me\u001b[0m\u001b[0;34m:\u001b[0m\u001b[0;34m\u001b[0m\u001b[0;34m\u001b[0m\u001b[0m\n\u001b[1;32m     62\u001b[0m     \u001b[0;32mif\u001b[0m \u001b[0mname\u001b[0m \u001b[0;32mis\u001b[0m \u001b[0;32mnot\u001b[0m \u001b[0;32mNone\u001b[0m\u001b[0;34m:\u001b[0m\u001b[0;34m\u001b[0m\u001b[0;34m\u001b[0m\u001b[0m\n",
            "\u001b[0;31mKeyboardInterrupt\u001b[0m: "
          ]
        }
      ]
    },
    {
      "cell_type": "code",
      "metadata": {
        "id": "dWVSUOm_vKIC"
      },
      "source": [
        ""
      ],
      "execution_count": null,
      "outputs": []
    }
  ]
}